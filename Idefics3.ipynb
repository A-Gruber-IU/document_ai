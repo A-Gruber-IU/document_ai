{
 "cells": [
  {
   "cell_type": "markdown",
   "id": "f103d200",
   "metadata": {},
   "source": [
    "# Idefics3 Inference for Dataextraction on Invoices\n",
    "\n",
    "[Idefics documentation on Hugging Face](https://huggingface.co/docs/transformers/v4.51.3/en/model_doc/idefics3)\n",
    "\n",
    "[Model Card](https://huggingface.co/HuggingFaceM4/Idefics3-8B-Llama3)\n",
    "\n",
    "[Paper](https://arxiv.org/abs/2408.12637)"
   ]
  },
  {
   "cell_type": "markdown",
   "id": "18ee7b87",
   "metadata": {},
   "source": [
    "## Preparation\n",
    "\n",
    "First we'll set some variables to work with idefics locally. Loading_from_hub needs to be set to true, when running the notebook for the first time to download the model from the hub. For following runs, it can be set to false to work with locally saved model and processor."
   ]
  },
  {
   "cell_type": "code",
   "execution_count": 1,
   "id": "1a3b15cb",
   "metadata": {},
   "outputs": [],
   "source": [
    "dataset_id = \"Aoschu/donut_model_data_for_german_invoice\"\n",
    "model_id = \"HuggingFaceM4/Idefics3-8B-Llama3\"\n",
    "local_proc_repo = \"idefics3-processor\"\n",
    "local_model_repo = \"idefics3\"\n",
    "loading_from_hub = False\n",
    "load_in_8bit = True\n",
    "filename = \"idefics3_output_ds2_8bit.json\""
   ]
  },
  {
   "cell_type": "markdown",
   "id": "68f93286",
   "metadata": {},
   "source": [
    "Let's load the dataset from the hub. You might want to implement saving to disk (similiar to the model) in case you are using a larger dataset. Here we are interested in the test split, so let's have a look at that."
   ]
  },
  {
   "cell_type": "code",
   "execution_count": 2,
   "id": "fefdfa64",
   "metadata": {},
   "outputs": [
    {
     "data": {
      "text/plain": [
       "Dataset({\n",
       "    features: ['image', 'ground_truth'],\n",
       "    num_rows: 18\n",
       "})"
      ]
     },
     "execution_count": 2,
     "metadata": {},
     "output_type": "execute_result"
    }
   ],
   "source": [
    "from datasets import load_dataset\n",
    "\n",
    "dataset = load_dataset(dataset_id)\n",
    "test_split = dataset[\"test\"]\n",
    "\n",
    "test_split"
   ]
  },
  {
   "cell_type": "markdown",
   "id": "50e7de80",
   "metadata": {},
   "source": [
    "Let's check out an example."
   ]
  },
  {
   "cell_type": "code",
   "execution_count": 3,
   "id": "9ffd27de",
   "metadata": {},
   "outputs": [
    {
     "data": {
      "image/jpeg": "[encoded data removed]",
      "image/png": "[encoded data removed]",
      "text/plain": [
       "<PIL.Image.Image image mode=RGB size=141x200>"
      ]
     },
     "metadata": {},
     "output_type": "display_data"
    }
   ],
   "source": [
    "example = test_split[0]\n",
    "image = example[\"image\"]\n",
    "width, height = image.size\n",
    "display(image.resize((int(width*0.1), int(height*0.1))))"
   ]
  },
  {
   "cell_type": "code",
   "execution_count": 4,
   "id": "ad98a9de",
   "metadata": {},
   "outputs": [
    {
     "data": {
      "text/plain": [
       "'{\"gt_parse\": {\"Der Name der Firma\": \"Reisebiiro Kronenberger\", \"Die Adresse der Firma\": \"Bonner Str. 756789 Ahlen\", \"Telefonnummer\": \"01234 5678-90\", \"Rechnungsdatum\": \": 22.05.2030\", \"Summe\": \"7.407,75\", \"IBAN\": \"DE12 3456 7890 1234 56\", \"Der Name der Bank\": \"Reisebank\"}}'"
      ]
     },
     "execution_count": 4,
     "metadata": {},
     "output_type": "execute_result"
    }
   ],
   "source": [
    "example[\"ground_truth\"]"
   ]
  },
  {
   "cell_type": "markdown",
   "id": "58606065",
   "metadata": {},
   "source": [
    "Since, the image and ground truth look good, we continue to load the model. If we do this for the first time, we load it from the hub and save it to disk."
   ]
  },
  {
   "cell_type": "code",
   "execution_count": 5,
   "id": "daaf397f",
   "metadata": {},
   "outputs": [],
   "source": [
    "from transformers import AutoProcessor, AutoModelForVision2Seq\n",
    "\n",
    "if loading_from_hub:\n",
    "    processor = AutoProcessor.from_pretrained(model_id)\n",
    "    model = AutoModelForVision2Seq.from_pretrained(model_id)\n",
    "    processor.save_pretrained(local_proc_repo)\n",
    "    model.save_pretrained(local_model_repo)"
   ]
  },
  {
   "cell_type": "markdown",
   "id": "65964af2",
   "metadata": {},
   "source": [
    "I had to use 8bit quantization, because otherwise it wouldn't quite fit into my VRAM."
   ]
  },
  {
   "cell_type": "code",
   "execution_count": 6,
   "id": "1544d99b",
   "metadata": {},
   "outputs": [
    {
     "data": {
      "application/vnd.jupyter.widget-view+json": {
       "model_id": "25ae1d5360fe4531ba983bdb60d5847b",
       "version_major": 2,
       "version_minor": 0
      },
      "text/plain": [
       "Loading checkpoint shards:   0%|          | 0/4 [00:00<?, ?it/s]"
      ]
     },
     "metadata": {},
     "output_type": "display_data"
    }
   ],
   "source": [
    "import torch\n",
    "from transformers import AutoProcessor, AutoModelForVision2Seq, BitsAndBytesConfig\n",
    "\n",
    "DEVICE = \"cuda:0\"\n",
    "image_size_n = 4\n",
    "\n",
    "processor = AutoProcessor.from_pretrained(\n",
    "    local_proc_repo,\n",
    "    size={\"longest_edge\": image_size_n*364}\n",
    "    )\n",
    "\n",
    "if load_in_8bit:\n",
    "    quantization_config = BitsAndBytesConfig(\n",
    "        load_in_8bit=True\n",
    "    )\n",
    "    model = AutoModelForVision2Seq.from_pretrained(\n",
    "        local_model_repo,\n",
    "        quantization_config=quantization_config,\n",
    "        device_map=\"auto\"\n",
    "    )\n",
    "else:\n",
    "    model = AutoModelForVision2Seq.from_pretrained(\n",
    "    local_model_repo,\n",
    "    torch_dtype=torch.float16,\n",
    "    device_map=\"auto\"\n",
    "    )"
   ]
  },
  {
   "cell_type": "markdown",
   "id": "b0bd7c64",
   "metadata": {},
   "source": [
    "## Inference\n",
    "\n",
    "This is where the outputs are generates, all with the same text prompt which instructs the assistant to return the extracted data in a specific JSON-Format."
   ]
  },
  {
   "cell_type": "code",
   "execution_count": 7,
   "id": "b86af612",
   "metadata": {},
   "outputs": [
    {
     "name": "stdout",
     "output_type": "stream",
     "text": [
      "Processed item 1/18\n",
      "Processed item 2/18\n",
      "Processed item 3/18\n",
      "Processed item 4/18\n",
      "Processed item 5/18\n",
      "Processed item 6/18\n",
      "Processed item 7/18\n",
      "Processed item 8/18\n",
      "Processed item 9/18\n",
      "Processed item 10/18\n",
      "Processed item 11/18\n",
      "Processed item 12/18\n",
      "Processed item 13/18\n",
      "Processed item 14/18\n",
      "Processed item 15/18\n",
      "Processed item 16/18\n",
      "Processed item 17/18\n",
      "Processed item 18/18\n",
      "Inference loop finished.\n"
     ]
    }
   ],
   "source": [
    "outputs = []\n",
    "for i, data in enumerate(test_split):\n",
    "    # Load the image\n",
    "    image = [data[\"image\"]]\n",
    "    \n",
    "    # Create inputs\n",
    "    message = [{\n",
    "            \"role\": \"user\",\n",
    "            \"content\": [\n",
    "                {\"type\": \"image\"},\n",
    "                {\"type\": \"text\", \"text\": 'Extract all key information from the document and return it as JSON. Separate decimal places by comma for all values. Use the following format and do not add additional fields: {\"Der Name der Firma\": {company name}, \"Die Adresse der Firma\": {company address}, \"Telefonnummer\": {phone number}, \"Rechnungsdatum\": {invoice date}, \"Summe\": {total gross sum}, \"IBAN\": {bank account iban}, \"Der Name der Bank\": {name of the bank}}}.' },\n",
    "            ]\n",
    "        }]\n",
    "    prompt = [processor.apply_chat_template(message, add_generation_prompt=True)]\n",
    "    inputs = processor(text=prompt, images=image, padding=True, return_tensors=\"pt\").to(model.device)\n",
    "    generated_ids = model.generate(**inputs, max_new_tokens=4096)\n",
    "    generated_texts = processor.batch_decode(generated_ids, skip_special_tokens=True)\n",
    "    outputs.append(generated_texts)\n",
    "    print(f\"Processed item {i + 1}/{len(test_split)}\")\n",
    "\n",
    "print(\"Inference loop finished.\")"
   ]
  },
  {
   "cell_type": "markdown",
   "id": "c572e005",
   "metadata": {},
   "source": [
    "Let's have a look at the outputs. We should see a large list holding both the prompts and the predictions."
   ]
  },
  {
   "cell_type": "code",
   "execution_count": 8,
   "id": "68497eb4",
   "metadata": {},
   "outputs": [
    {
     "data": {
      "text/plain": [
       "[['User:<image>Extract all key information from the document and return it as JSON. Separate decimal places by comma for all values. Use the following format and do not add additional fields: {\"Der Name der Firma\": {company name}, \"Die Adresse der Firma\": {company address}, \"Telefonnummer\": {phone number}, \"Rechnungsdatum\": {invoice date}, \"Summe\": {total gross sum}, \"IBAN\": {bank account iban}, \"Der Name der Bank\": {name of the bank}}}.\\nAssistant: {\\n    \"company name\": \"Reisebüro Kronenberger\",\\n    \"company address\": \"Bonner Str. 7, 56789 Ahlen\",\\n    \"phone number\": \"0123 56789-90\",\\n    \"invoice date\": \"22.05.2030\",\\n    \"total gross sum\": \"7,407.75\",\\n    \"bank account iban\": \"DE89 1234 56789 1234 56\",\\n    \"name of the bank\": \"IBAN\"\\n}'],\n",
       " ['User:<image>Extract all key information from the document and return it as JSON. Separate decimal places by comma for all values. Use the following format and do not add additional fields: {\"Der Name der Firma\": {company name}, \"Die Adresse der Firma\": {company address}, \"Telefonnummer\": {phone number}, \"Rechnungsdatum\": {invoice date}, \"Summe\": {total gross sum}, \"IBAN\": {bank account iban}, \"Der Name der Bank\": {name of the bank}}}.\\nAssistant: {\\n    \"Der Name der Firma\": \"Kluger\",\\n    \"Die Adresse der Firma\": \"Jede Straße 123, 12345 Jede Stadt\",\\n    \"Telefonnummer\": \"(021) 1234-56\",\\n    \"Rechnungsdatum\": \"15.09.2024\",\\n    \"Summe\": \"2142,00 €\",\\n    \"IBAN\": \"0123 4567 8901\",\\n    \"Der Name der Bank\": \"Antschrift Jede Stadt\"\\n}'],\n",
       " ['User:<image>Extract all key information from the document and return it as JSON. Separate decimal places by comma for all values. Use the following format and do not add additional fields: {\"Der Name der Firma\": {company name}, \"Die Adresse der Firma\": {company address}, \"Telefonnummer\": {phone number}, \"Rechnungsdatum\": {invoice date}, \"Summe\": {total gross sum}, \"IBAN\": {bank account iban}, \"Der Name der Bank\": {name of the bank}}}.\\nAssistant: {\\n    \"company name\": \"Kunden GmbH & Co. KG\",\\n    \"company address\": \"Herr Max Mustermann Mustermstraße 1 12345 Mustertstadt\",\\n    \"phone number\": \"(49) 1234/98 76 54\",\\n    \"invoice date\": \"Rechnung Nr. 12345\",\\n    \"total gross sum\": \"1.332,80\",\\n    \"bank account iban\": \"DE3123456789\",\\n    \"name of the bank\": \"Volksbank Mustertstadt\"\\n}']]"
      ]
     },
     "execution_count": 8,
     "metadata": {},
     "output_type": "execute_result"
    }
   ],
   "source": [
    "outputs[:3]"
   ]
  },
  {
   "cell_type": "markdown",
   "id": "e80fa6c4",
   "metadata": {},
   "source": [
    "Let's do some formatting, to make this more human readable."
   ]
  },
  {
   "cell_type": "code",
   "execution_count": 9,
   "id": "85e02668",
   "metadata": {},
   "outputs": [
    {
     "name": "stdout",
     "output_type": "stream",
     "text": [
      "Output 1:\n",
      "User:<image>Extract all key information from the document and return it as JSON. Separate decimal places by comma for all values. Use the following format and do not add additional fields: {\"Der Name der Firma\": {company name}, \"Die Adresse der Firma\": {company address}, \"Telefonnummer\": {phone number}, \"Rechnungsdatum\": {invoice date}, \"Summe\": {total gross sum}, \"IBAN\": {bank account iban}, \"Der Name der Bank\": {name of the bank}}}.\n",
      "Assistant: {\n",
      "    \"company name\": \"Reisebüro Kronenberger\",\n",
      "    \"company address\": \"Bonner Str. 7, 56789 Ahlen\",\n",
      "    \"phone number\": \"0123 56789-90\",\n",
      "    \"invoice date\": \"22.05.2030\",\n",
      "    \"total gross sum\": \"7,407.75\",\n",
      "    \"bank account iban\": \"DE89 1234 56789 1234 56\",\n",
      "    \"name of the bank\": \"IBAN\"\n",
      "}\n",
      "\n",
      "Output 2:\n",
      "User:<image>Extract all key information from the document and return it as JSON. Separate decimal places by comma for all values. Use the following format and do not add additional fields: {\"Der Name der Firma\": {company name}, \"Die Adresse der Firma\": {company address}, \"Telefonnummer\": {phone number}, \"Rechnungsdatum\": {invoice date}, \"Summe\": {total gross sum}, \"IBAN\": {bank account iban}, \"Der Name der Bank\": {name of the bank}}}.\n",
      "Assistant: {\n",
      "    \"Der Name der Firma\": \"Kluger\",\n",
      "    \"Die Adresse der Firma\": \"Jede Straße 123, 12345 Jede Stadt\",\n",
      "    \"Telefonnummer\": \"(021) 1234-56\",\n",
      "    \"Rechnungsdatum\": \"15.09.2024\",\n",
      "    \"Summe\": \"2142,00 €\",\n",
      "    \"IBAN\": \"0123 4567 8901\",\n",
      "    \"Der Name der Bank\": \"Antschrift Jede Stadt\"\n",
      "}\n",
      "\n",
      "Output 3:\n",
      "User:<image>Extract all key information from the document and return it as JSON. Separate decimal places by comma for all values. Use the following format and do not add additional fields: {\"Der Name der Firma\": {company name}, \"Die Adresse der Firma\": {company address}, \"Telefonnummer\": {phone number}, \"Rechnungsdatum\": {invoice date}, \"Summe\": {total gross sum}, \"IBAN\": {bank account iban}, \"Der Name der Bank\": {name of the bank}}}.\n",
      "Assistant: {\n",
      "    \"company name\": \"Kunden GmbH & Co. KG\",\n",
      "    \"company address\": \"Herr Max Mustermann Mustermstraße 1 12345 Mustertstadt\",\n",
      "    \"phone number\": \"(49) 1234/98 76 54\",\n",
      "    \"invoice date\": \"Rechnung Nr. 12345\",\n",
      "    \"total gross sum\": \"1.332,80\",\n",
      "    \"bank account iban\": \"DE3123456789\",\n",
      "    \"name of the bank\": \"Volksbank Mustertstadt\"\n",
      "}\n",
      "\n"
     ]
    }
   ],
   "source": [
    "formatted_texts = []\n",
    "# Iterate through the outputs and format each output\n",
    "for output in outputs:\n",
    "    formatted_text = '\\n'.join(output)\n",
    "    formatted_texts.append(formatted_text.replace('\\\\n', '<br>'))\n",
    "for i, formatted_text in enumerate(formatted_texts[:3]):\n",
    "    print(f\"Output {i+1}:\")\n",
    "    print(formatted_text)\n",
    "    print()"
   ]
  },
  {
   "cell_type": "markdown",
   "id": "7e0702ba",
   "metadata": {},
   "source": [
    "Let's save this output to disk, in case we want to come back later for the evaluation."
   ]
  },
  {
   "cell_type": "code",
   "execution_count": 10,
   "id": "263545e6",
   "metadata": {},
   "outputs": [
    {
     "name": "stdout",
     "output_type": "stream",
     "text": [
      "List successfully saved to idefics3_output_ds2_8bit.json\n"
     ]
    }
   ],
   "source": [
    "import json\n",
    "\n",
    "try:\n",
    "    with open(filename, 'w') as file: # 'w' means write text\n",
    "        json.dump(outputs, file, indent=4) # indent makes it human-readable\n",
    "    print(f\"List successfully saved to {filename}\")\n",
    "except TypeError as e:\n",
    "     print(f\"Error saving list: {e}. JSON might not support all object types in the list.\")\n",
    "except Exception as e:\n",
    "    print(f\"Error saving list: {e}\")"
   ]
  },
  {
   "cell_type": "markdown",
   "id": "2499bbf9",
   "metadata": {},
   "source": [
    "## Evaluation\n",
    "\n",
    "We can load the outputs from disk again, if we decide to come back to this later."
   ]
  },
  {
   "cell_type": "code",
   "execution_count": 2,
   "id": "37f9e183",
   "metadata": {},
   "outputs": [
    {
     "name": "stdout",
     "output_type": "stream",
     "text": [
      "List successfully loaded from idefics3_output_ds2_8bit.json\n"
     ]
    }
   ],
   "source": [
    "import json\n",
    "\n",
    "outputs = None\n",
    "try:\n",
    "    with open(filename, 'r') as file: # 'r' means read text\n",
    "        outputs = json.load(file)\n",
    "    print(f\"List successfully loaded from {filename}\")\n",
    "except FileNotFoundError:\n",
    "    print(f\"Error: File {filename} not found.\")\n",
    "except json.JSONDecodeError as e:\n",
    "    print(f\"Error loading list: Invalid JSON format - {e}\")\n",
    "except Exception as e:\n",
    "    print(f\"Error loading list: {e}\")"
   ]
  },
  {
   "cell_type": "code",
   "execution_count": 3,
   "id": "9ff5ca8d",
   "metadata": {},
   "outputs": [
    {
     "name": "stdout",
     "output_type": "stream",
     "text": [
      "[['User:<image>Extract all key information from the document and return it as JSON. Separate decimal places by comma for all values. Use the following format and do not add additional fields: {\"Der Name der Firma\": {company name}, \"Die Adresse der Firma\": {company address}, \"Telefonnummer\": {phone number}, \"Rechnungsdatum\": {invoice date}, \"Summe\": {total gross sum}, \"IBAN\": {bank account iban}, \"Der Name der Bank\": {name of the bank}}}.\\nAssistant: {\\n    \"company name\": \"Reisebüro Kronenberger\",\\n    \"company address\": \"Bonner Str. 7, 56789 Ahlen\",\\n    \"phone number\": \"0123 56789-90\",\\n    \"invoice date\": \"22.05.2030\",\\n    \"total gross sum\": \"7,407.75\",\\n    \"bank account iban\": \"DE89 1234 56789 1234 56\",\\n    \"name of the bank\": \"IBAN\"\\n}'], ['User:<image>Extract all key information from the document and return it as JSON. Separate decimal places by comma for all values. Use the following format and do not add additional fields: {\"Der Name der Firma\": {company name}, \"Die Adresse der Firma\": {company address}, \"Telefonnummer\": {phone number}, \"Rechnungsdatum\": {invoice date}, \"Summe\": {total gross sum}, \"IBAN\": {bank account iban}, \"Der Name der Bank\": {name of the bank}}}.\\nAssistant: {\\n    \"Der Name der Firma\": \"Kluger\",\\n    \"Die Adresse der Firma\": \"Jede Straße 123, 12345 Jede Stadt\",\\n    \"Telefonnummer\": \"(021) 1234-56\",\\n    \"Rechnungsdatum\": \"15.09.2024\",\\n    \"Summe\": \"2142,00 €\",\\n    \"IBAN\": \"0123 4567 8901\",\\n    \"Der Name der Bank\": \"Antschrift Jede Stadt\"\\n}'], ['User:<image>Extract all key information from the document and return it as JSON. Separate decimal places by comma for all values. Use the following format and do not add additional fields: {\"Der Name der Firma\": {company name}, \"Die Adresse der Firma\": {company address}, \"Telefonnummer\": {phone number}, \"Rechnungsdatum\": {invoice date}, \"Summe\": {total gross sum}, \"IBAN\": {bank account iban}, \"Der Name der Bank\": {name of the bank}}}.\\nAssistant: {\\n    \"company name\": \"Kunden GmbH & Co. KG\",\\n    \"company address\": \"Herr Max Mustermann Mustermstraße 1 12345 Mustertstadt\",\\n    \"phone number\": \"(49) 1234/98 76 54\",\\n    \"invoice date\": \"Rechnung Nr. 12345\",\\n    \"total gross sum\": \"1.332,80\",\\n    \"bank account iban\": \"DE3123456789\",\\n    \"name of the bank\": \"Volksbank Mustertstadt\"\\n}'], ['User:<image>Extract all key information from the document and return it as JSON. Separate decimal places by comma for all values. Use the following format and do not add additional fields: {\"Der Name der Firma\": {company name}, \"Die Adresse der Firma\": {company address}, \"Telefonnummer\": {phone number}, \"Rechnungsdatum\": {invoice date}, \"Summe\": {total gross sum}, \"IBAN\": {bank account iban}, \"Der Name der Bank\": {name of the bank}}}.\\nAssistant: {\\'company name\\': \\'Heimtextilien GmbH\\', \\'company address\\': \\'Weilstraße 3, 33333 Musterstadt\\', \\'phone number\\': \\'1234567890\\', \\'invoice date\\': \\'2. December 2021\\', \\'total gross sum\\': \\'2,295\\', \\'bank account iban\\': \\'DE1450050170123456789\\', \\'name of the bank\\': \\'Bankverbindung\\'}'], ['User:<image>Extract all key information from the document and return it as JSON. Separate decimal places by comma for all values. Use the following format and do not add additional fields: {\"Der Name der Firma\": {company name}, \"Die Adresse der Firma\": {company address}, \"Telefonnummer\": {phone number}, \"Rechnungsdatum\": {invoice date}, \"Summe\": {total gross sum}, \"IBAN\": {bank account iban}, \"Der Name der Bank\": {name of the bank}}}.\\nAssistant: {\\n    \"Der Name der Firma\": \"Spa & Beauty Borcelle\",\\n    \"Die Adresse der Firma\": \"Jede Straße 123 | 12345 Jede Stadt\",\\n    \"Telefonnummer\": \"Frau Olivia Wilson\",\\n    \"Rechnungsdatum\": \"14. September 2024\",\\n    \"Summe\": \"310.59\",\\n    \"IBAN\": \"123-456-7890\",\\n    \"Der Name der Bank\": \"Bankhaus Jede Stadt\"\\n}'], ['User:<image>Extract all key information from the document and return it as JSON. Separate decimal places by comma for all values. Use the following format and do not add additional fields: {\"Der Name der Firma\": {company name}, \"Die Adresse der Firma\": {company address}, \"Telefonnummer\": {phone number}, \"Rechnungsdatum\": {invoice date}, \"Summe\": {total gross sum}, \"IBAN\": {bank account iban}, \"Der Name der Bank\": {name of the bank}}}.\\nAssistant: {\\n    \"Der Name der Firma\": \"Schuhhaus Wagner\",\\n    \"Die Adresse der Firma\": \"MusterstraBe 12, 12345 Musterstadt\",\\n    \"Telefonnummer\": \"01234 567890\",\\n    \"Rechnungsdatum\": \"6. Januar 2025\",\\n    \"Summe\": \"492\",\\n    \"IBAN\": \"1234567890\",\\n    \"Der Name der Bank\": \"Bankhaus Musterstadt\"\\n}'], ['User:<image>Extract all key information from the document and return it as JSON. Separate decimal places by comma for all values. Use the following format and do not add additional fields: {\"Der Name der Firma\": {company name}, \"Die Adresse der Firma\": {company address}, \"Telefonnummer\": {phone number}, \"Rechnungsdatum\": {invoice date}, \"Summe\": {total gross sum}, \"IBAN\": {bank account iban}, \"Der Name der Bank\": {name of the bank}}}.\\nAssistant: {\\n    \"Der Name der Firma\": \"Ihr Galabau\",\\n    \"Die Adresse der Firma\": \"Hauptweg 2 - 12345 Musterort\",\\n    \"Telefonnummer\": \"12345\",\\n    \"Rechnungsdatum\": \"09.05.2016\",\\n    \"Summe\": \"17.470,00 Euro\",\\n    \"IBAN\": \"1234567890\",\\n    \"Der Name der Bank\": \"Bank123\"\\n}'], ['User:<image>Extract all key information from the document and return it as JSON. Separate decimal places by comma for all values. Use the following format and do not add additional fields: {\"Der Name der Firma\": {company name}, \"Die Adresse der Firma\": {company address}, \"Telefonnummer\": {phone number}, \"Rechnungsdatum\": {invoice date}, \"Summe\": {total gross sum}, \"IBAN\": {bank account iban}, \"Der Name der Bank\": {name of the bank}}}.\\nAssistant: {\\n    \"Der Name der Firma\": \"Anila Patel\",\\n    \"Die Adresse der Firma\": \"Am Birkenkamp 17, 65432 Heidelberg\",\\n    \"Telefonnummer\": \"0123 5678-90\",\\n    \"Rechnungsdatum\": \"10.10.2030\",\\n    \"Summe\": \"2,515,00 €\",\\n    \"IBAN\": \"DE12 3456 7890 1234 5678 90\",\\n    \"Der Name der Bank\": \"Freiburger Bank\"\\n}'], ['User:<image>Extract all key information from the document and return it as JSON. Separate decimal places by comma for all values. Use the following format and do not add additional fields: {\"Der Name der Firma\": {company name}, \"Die Adresse der Firma\": {company address}, \"Telefonnummer\": {phone number}, \"Rechnungsdatum\": {invoice date}, \"Summe\": {total gross sum}, \"IBAN\": {bank account iban}, \"Der Name der Bank\": {name of the bank}}}.\\nAssistant: {}'], ['User:<image>Extract all key information from the document and return it as JSON. Separate decimal places by comma for all values. Use the following format and do not add additional fields: {\"Der Name der Firma\": {company name}, \"Die Adresse der Firma\": {company address}, \"Telefonnummer\": {phone number}, \"Rechnungsdatum\": {invoice date}, \"Summe\": {total gross sum}, \"IBAN\": {bank account iban}, \"Der Name der Bank\": {name of the bank}}}.\\nAssistant: {\\n    \"company name\": \"Smith IT Services\",\\n    \"company address\": \"15 Deptford High Street, London, SE8 7PQ, United Kingdom\",\\n    \"phone number\": \"030 3810 123\",\\n    \"invoice date\": \"07.07.2020\",\\n    \"total gross sum\": \"233.50\",\\n    \"bank account iban\": \"DE 65702159\",\\n    \"name of the bank\": \"Testbank\"\\n}'], ['User:<image>Extract all key information from the document and return it as JSON. Separate decimal places by comma for all values. Use the following format and do not add additional fields: {\"Der Name der Firma\": {company name}, \"Die Adresse der Firma\": {company address}, \"Telefonnummer\": {phone number}, \"Rechnungsdatum\": {invoice date}, \"Summe\": {total gross sum}, \"IBAN\": {bank account iban}, \"Der Name der Bank\": {name of the bank}}}.\\nAssistant: {\\n    \"Der Name der Firma\": \"Muster GmbH & Co. KG\",\\n    \"Die Adresse der Firma\": \"Elisabethstrasse 55, 80335 München\",\\n    \"Telefonnummer\": \"+49 (0) 89 - 100 222\",\\n    \"Rechnungsdatum\": \"01.01.2022\",\\n    \"Summe\": \"1024,3\",\\n    \"IBAN\": \"DE25 5001 05517 6329 38\",\\n    \"Der Name der Bank\": \"IBAN DE25 5001 05517 6329 38\"\\n}'], ['User:<image>Extract all key information from the document and return it as JSON. Separate decimal places by comma for all values. Use the following format and do not add additional fields: {\"Der Name der Firma\": {company name}, \"Die Adresse der Firma\": {company address}, \"Telefonnummer\": {phone number}, \"Rechnungsdatum\": {invoice date}, \"Summe\": {total gross sum}, \"IBAN\": {bank account iban}, \"Der Name der Bank\": {name of the bank}}}.\\nAssistant: {\\n    \"Der Name der Firma\": \"Musterfirma\",\\n    \"Die Adresse der Firma\": \"Musterstraße 12, 12345 Stadt\",\\n    \"Telefonnummer\": \"0211 1234567\",\\n    \"Rechnungsdatum\": \"07.08.2015\",\\n    \"Summe\": \"190,00 €\",\\n    \"IBAN\": \"DE1234567890\",\\n    \"Der Name der Bank\": \"Volksbank Köln\"\\n}'], ['User:<image>Extract all key information from the document and return it as JSON. Separate decimal places by comma for all values. Use the following format and do not add additional fields: {\"Der Name der Firma\": {company name}, \"Die Adresse der Firma\": {company address}, \"Telefonnummer\": {phone number}, \"Rechnungsdatum\": {invoice date}, \"Summe\": {total gross sum}, \"IBAN\": {bank account iban}, \"Der Name der Bank\": {name of the bank}}}.\\nAssistant: {\\n    \"company name\": \"FORSTER\",\\n    \"company address\": \"Garten- und Landschaftsbau\",\\n    \"phone number\": \"0251 99892-10\",\\n    \"invoice date\": \"01.08.2012\",\\n    \"total gross sum\": \"7.753,92\",\\n    \"bank account iban\": \"DE87170400000011390149\",\\n    \"name of the bank\": \"Volksbank Raiffeisenbank eG\"\\n}'], ['User:<image>Extract all key information from the document and return it as JSON. Separate decimal places by comma for all values. Use the following format and do not add additional fields: {\"Der Name der Firma\": {company name}, \"Die Adresse der Firma\": {company address}, \"Telefonnummer\": {phone number}, \"Rechnungsdatum\": {invoice date}, \"Summe\": {total gross sum}, \"IBAN\": {bank account iban}, \"Der Name der Bank\": {name of the bank}}}.\\nAssistant: {\\n    \"company name\": \"Lightweight Aviation GmbH\",\\n    \"company address\": \"Nordallee 25 85356 München\",\\n    \"phone number\": \"004913456789\",\\n    \"invoice date\": \"14.04.2021\",\\n    \"total gross sum\": \"14,875.00\",\\n    \"bank account iban\": \"DE2000111122223332103\",\\n    \"name of the bank\": \"Invoice Office GmbH\"\\n}'], ['User:<image>Extract all key information from the document and return it as JSON. Separate decimal places by comma for all values. Use the following format and do not add additional fields: {\"Der Name der Firma\": {company name}, \"Die Adresse der Firma\": {company address}, \"Telefonnummer\": {phone number}, \"Rechnungsdatum\": {invoice date}, \"Summe\": {total gross sum}, \"IBAN\": {bank account iban}, \"Der Name der Bank\": {name of the bank}}}.\\nAssistant: {\\n    \"Der Name der Firma\": \"European Auto Parts\",\\n    \"Die Adresse der Firma\": \"Schillingbrücke 58, 73111 Berlin\",\\n    \"Telefonnummer\": \"Rechnung\",\\n    \"Rechnungsdatum\": \"29/01/2019\",\\n    \"Summe\": \"165,41\",\\n    \"IBAN\": \"DE91 1234 5678\",\\n    \"Der Name der Bank\": \"Deutsche Bank\"\\n}'], ['User:<image>Extract all key information from the document and return it as JSON. Separate decimal places by comma for all values. Use the following format and do not add additional fields: {\"Der Name der Firma\": {company name}, \"Die Adresse der Firma\": {company address}, \"Telefonnummer\": {phone number}, \"Rechnungsdatum\": {invoice date}, \"Summe\": {total gross sum}, \"IBAN\": {bank account iban}, \"Der Name der Bank\": {name of the bank}}}.\\nAssistant: {\\n    \"company name\": \"European Auto Parts\",\\n    \"company address\": \"Schillingbruche 58 73111 Berlin\",\\n    \"phone number\": \"Rechnungsdirekte\",\\n    \"invoice date\": \"29/01/2019\",\\n    \"total gross sum\": \"165.41\",\\n    \"bank account iban\": \"DE91 1234 5678\",\\n    \"name of the bank\": \"Deutsche Bank\"\\n}'], ['User:<image>Extract all key information from the document and return it as JSON. Separate decimal places by comma for all values. Use the following format and do not add additional fields: {\"Der Name der Firma\": {company name}, \"Die Adresse der Firma\": {company address}, \"Telefonnummer\": {phone number}, \"Rechnungsdatum\": {invoice date}, \"Summe\": {total gross sum}, \"IBAN\": {bank account iban}, \"Der Name der Bank\": {name of the bank}}}.\\nAssistant: {\\'company name\\': \\'European Auto Parts\\', \\'company address\\': \\'Schillingbr\\\\u00f6cke 58 73111 Berlin\\', \\'phone number\\': \\'\\', \\'invoice date\\': \\'29/01/2019\\', \\'total gross sum\\': \\'165.41\\', \\'bank account iban\\': \\'DE91 1234 5678\\', \\'name of the bank\\': \\'Deutsche Bank\\'}'], ['User:<image>Extract all key information from the document and return it as JSON. Separate decimal places by comma for all values. Use the following format and do not add additional fields: {\"Der Name der Firma\": {company name}, \"Die Adresse der Firma\": {company address}, \"Telefonnummer\": {phone number}, \"Rechnungsdatum\": {invoice date}, \"Summe\": {total gross sum}, \"IBAN\": {bank account iban}, \"Der Name der Bank\": {name of the bank}}}.\\nAssistant: {\\n    \"company name\": \"Musterfirma\",\\n    \"company address\": \"MusterstraBe 7, 01563 Hannover\",\\n    \"phone number\": \"0179 1234567\",\\n    \"invoice date\": \"19.09.2020\",\\n    \"total gross sum\": \"378,50\",\\n    \"bank account iban\": \"DE42 1234 1234 1234 02\",\\n    \"name of the bank\": \"Musterbank\"\\n}']]\n"
     ]
    }
   ],
   "source": [
    "print(outputs)"
   ]
  },
  {
   "cell_type": "markdown",
   "id": "fc2f1593",
   "metadata": {},
   "source": [
    "We also need the ground truths for evaluation. We'll have a look at the first 3."
   ]
  },
  {
   "cell_type": "code",
   "execution_count": 4,
   "id": "daa6b58e",
   "metadata": {},
   "outputs": [
    {
     "data": {
      "text/plain": [
       "[{'Der Name der Firma': 'Reisebiiro Kronenberger',\n",
       "  'Die Adresse der Firma': 'Bonner Str. 756789 Ahlen',\n",
       "  'Telefonnummer': '01234 5678-90',\n",
       "  'Rechnungsdatum': ': 22.05.2030',\n",
       "  'Summe': '7.407,75',\n",
       "  'IBAN': 'DE12 3456 7890 1234 56',\n",
       "  'Der Name der Bank': 'Reisebank'},\n",
       " {'Der Name der Firma': 'Werbeagentur Kluger,',\n",
       "  'Rechnungsnummer': '01234',\n",
       "  'Rechnungsdatum': '13.08.2024',\n",
       "  'Falligkeitsdatum': '15.09.2024',\n",
       "  'Die Adresse der Firma': 'Jede StraBe 123, 12345 Jede Stadt',\n",
       "  'Summe': '2142,00 €',\n",
       "  'Telefonnummer': '(0221) 1234-56',\n",
       "  'IBAN': '0123 4567 8901'},\n",
       " {'Die Adresse der Firma': 'asso | 12 rset',\n",
       "  'Rechnungsnummer': '12345',\n",
       "  'Summe': '1.332,80',\n",
       "  'Telefonnummer': '{+49} 1234/98 7654'}]"
      ]
     },
     "execution_count": 4,
     "metadata": {},
     "output_type": "execute_result"
    }
   ],
   "source": [
    "from datasets import load_dataset\n",
    "\n",
    "dataset = load_dataset(dataset_id)\n",
    "test_split = dataset[\"test\"]\n",
    "\n",
    "ground_truth_list = []\n",
    "for data_item in test_split:\n",
    "\n",
    "    gt_string = data_item[\"ground_truth\"]\n",
    "    parsed_data = json.loads(gt_string)\n",
    "\n",
    "    inner_dict = parsed_data[\"gt_parse\"]\n",
    "\n",
    "    ground_truth_list.append(inner_dict)\n",
    "\n",
    "ground_truth_list[:3]"
   ]
  },
  {
   "cell_type": "markdown",
   "id": "51867b87",
   "metadata": {},
   "source": [
    "From those ground truths we'll extract the keys for the key value pairs. Notice that we do this only by looking at the first example, assuming the ground truth data is structured the same for all rows. Be aware that this only takes the key from the first example which is good enough in our case, since it matches the format given to the assistant in the instructions. There are slight variations in the dataset, meaning that there are a few more keys which are not conisdered and which will negatively affect the end result. It should be possible to change the evaluation metrics to exclude them in cases where this is more problematic."
   ]
  },
  {
   "cell_type": "code",
   "execution_count": 5,
   "id": "7f73966c",
   "metadata": {},
   "outputs": [
    {
     "name": "stdout",
     "output_type": "stream",
     "text": [
      "All unique keys found (including nested & in lists): ['Der Name der Bank', 'Der Name der Firma', 'Die Adresse der Firma', 'Falligkeitsdatum', 'IBAN', 'Rechnungsdatum', 'Rechnungsnummer', 'Summe', 'Telefonnummer']\n"
     ]
    }
   ],
   "source": [
    "keys = set()\n",
    "\n",
    "if 'ground_truth_list' in locals() and isinstance(ground_truth_list, list):\n",
    "    for item in ground_truth_list:\n",
    "        if isinstance(item, dict):\n",
    "            # Add top-level keys\n",
    "            keys.update(item.keys())\n",
    "            # Check values for nested structures\n",
    "            for value in item.values():\n",
    "                if isinstance(value, dict):\n",
    "                    # Add keys from nested dictionary\n",
    "                    keys.update(value.keys())\n",
    "                elif isinstance(value, list):\n",
    "                     # If value is a list, check items within it\n",
    "                     for element_in_list in value:\n",
    "                         if isinstance(element_in_list, dict):\n",
    "                             # Add keys from dictionary inside the list\n",
    "                             keys.update(element_in_list.keys())\n",
    "\n",
    "    print(\"All unique keys found (including nested & in lists):\", sorted(list(keys)))\n",
    "\n",
    "else:\n",
    "    print(\"'ground_truth_list' not found or not a list.\")\n",
    "\n"
   ]
  },
  {
   "cell_type": "markdown",
   "id": "e3a8ba54",
   "metadata": {},
   "source": [
    "Now we can extract the actual fields of interest so we can evaluate them against the ground truths. Again, we'll have a look at the first 3 of them."
   ]
  },
  {
   "cell_type": "code",
   "execution_count": 6,
   "id": "0d0e0ead",
   "metadata": {},
   "outputs": [
    {
     "name": "stdout",
     "output_type": "stream",
     "text": [
      "\n",
      "--- Parsed Results (18 items processed) ---\n",
      "\n",
      "Result 1:\n",
      "{\n",
      "    \"Rechnungsdatum\": \"\",\n",
      "    \"Telefonnummer\": \"\",\n",
      "    \"Die Adresse der Firma\": \"\",\n",
      "    \"Der Name der Firma\": \"\",\n",
      "    \"IBAN\": \"\",\n",
      "    \"Falligkeitsdatum\": \"\",\n",
      "    \"Der Name der Bank\": \"\",\n",
      "    \"Summe\": \"\",\n",
      "    \"Rechnungsnummer\": \"\"\n",
      "}\n",
      "\n",
      "Result 2:\n",
      "{\n",
      "    \"Rechnungsdatum\": \"15.09.2024\",\n",
      "    \"Telefonnummer\": \"(021) 1234-56\",\n",
      "    \"Die Adresse der Firma\": \"Jede Stra\\u00dfe 123, 12345 Jede Stadt\",\n",
      "    \"Der Name der Firma\": \"Kluger\",\n",
      "    \"IBAN\": \"0123 4567 8901\",\n",
      "    \"Falligkeitsdatum\": \"\",\n",
      "    \"Der Name der Bank\": \"Antschrift Jede Stadt\",\n",
      "    \"Summe\": \"2142,00 \\u20ac\",\n",
      "    \"Rechnungsnummer\": \"\"\n",
      "}\n",
      "\n",
      "Result 3:\n",
      "{\n",
      "    \"Rechnungsdatum\": \"\",\n",
      "    \"Telefonnummer\": \"\",\n",
      "    \"Die Adresse der Firma\": \"\",\n",
      "    \"Der Name der Firma\": \"\",\n",
      "    \"IBAN\": \"\",\n",
      "    \"Falligkeitsdatum\": \"\",\n",
      "    \"Der Name der Bank\": \"\",\n",
      "    \"Summe\": \"\",\n",
      "    \"Rechnungsnummer\": \"\"\n",
      "}\n"
     ]
    }
   ],
   "source": [
    "import re\n",
    "import json\n",
    "\n",
    "def get_empty_structure():\n",
    "    \"\"\"Returns a fresh copy of the desired JSON structure filled with empty strings.\"\"\"\n",
    "    return {\n",
    "        k: '' for k in keys\n",
    "    }\n",
    "\n",
    "def extract_values_robustly(data_list):\n",
    "    \"\"\"\n",
    "    Extracts values by searching for \"key\": \"value\" patterns for known keys\n",
    "    in the raw model output string. Fills a predefined structure.\n",
    "    \"\"\"\n",
    "    parsed_results = []\n",
    "\n",
    "    for extracted_data in data_list:\n",
    "        # Basic check for expected format (list containing at least one string)\n",
    "        if not isinstance(extracted_data, list) or len(extracted_data) == 0 or not isinstance(extracted_data[0], str):\n",
    "            print(f\"Skipping item with unexpected format: {extracted_data}\")\n",
    "            continue\n",
    "        full_string = extracted_data[0]\n",
    "\n",
    "        # Start with a clean, empty structure for this output data\n",
    "        result_structure = get_empty_structure()\n",
    "\n",
    "        # Iterate through all the keys for summary and header\n",
    "        for key in keys:\n",
    "            pattern = r'\"{key}\":\\s*\"(.*?)\"'.format(key=re.escape(key))\n",
    "\n",
    "            # Search for the first occurrence of this pattern in the string\n",
    "            match = re.search(pattern, full_string)\n",
    "\n",
    "            if match:\n",
    "                # If found, extract the value (captured group 1)\n",
    "                value = match.group(1)\n",
    "                result_structure[key] = value\n",
    "                # If no match, the key's value remains the default empty string ''\n",
    "\n",
    "        # Add the populated (or partially populated) structure to our results\n",
    "        parsed_results.append(result_structure)\n",
    "\n",
    "\n",
    "    return parsed_results\n",
    "\n",
    "# --- Execution part ---\n",
    "# Make sure the 'outputs' variable contains your list of model predictions\n",
    "if 'outputs' in locals() and isinstance(outputs, list) and len(outputs) > 0:\n",
    "    parsed_results = extract_values_robustly(outputs)\n",
    "    print(f\"\\n--- Parsed Results ({len(parsed_results)} items processed) ---\")\n",
    "\n",
    "     # Print the results to verify\n",
    "    for i, result in enumerate(parsed_results[:3]):\n",
    "        print(f\"\\nResult {i+1}:\")\n",
    "        print(json.dumps(result, indent=4))\n",
    "\n",
    "else:\n",
    "    print(\"Variable 'outputs' not found, is not a list, or is empty. Cannot parse.\")\n",
    "    parsed_results = [] # Initialize empty list"
   ]
  },
  {
   "cell_type": "code",
   "execution_count": 7,
   "id": "27488172",
   "metadata": {},
   "outputs": [
    {
     "name": "stdout",
     "output_type": "stream",
     "text": [
      "18\n",
      "18\n"
     ]
    }
   ],
   "source": [
    "print(len(ground_truth_list))\n",
    "print(len(parsed_results))"
   ]
  },
  {
   "cell_type": "markdown",
   "id": "6145593b",
   "metadata": {},
   "source": [
    "Now we can calculate some metrics.\n",
    "\n",
    "Notice that Precision, recall and F1-score are typically used for classification problems, not text prediction or matching key value paris. In the context of matching key value pairs, incorrect predictions are counted both as false positive and false negative.\n",
    "\n",
    "I've also calculated the accuracy based on the normalized tree edit distance by using the [donut-python](https://pypi.org/project/donut-python/) library. The main difference here is that, while the metrics are only counting fully correct or false predicitons per field, the three edit distance also measures how \"close\" any given predicitons was. You might want to implement this yourself or use another library, but I simply used it because I was comparing different models, including DONUT and so this seemed to be an easy way for an an additional baseline. I've also used the donut-python library to get the f1 score which was consistent with my own implementation in this case (not in all others).\n",
    "\n",
    "For predictions with matching keys, I've also calculated the values word error rate as i[mplemented by the torcheval library](https://pytorch.org/torcheval/main/generated/torcheval.metrics.WordErrorRate.html#torcheval.metrics.WordErrorRate)."
   ]
  },
  {
   "cell_type": "code",
   "execution_count": 10,
   "id": "39a3aa34",
   "metadata": {},
   "outputs": [
    {
     "name": "stdout",
     "output_type": "stream",
     "text": [
      "Parsed 18 items with a total of 113 fields to predict.\n",
      "\n",
      "Validation Metrics:\n",
      "  Total True Positives:             18\n",
      "  Precision:                        0.3214\n",
      "  Recall:                           0.1593\n",
      "  F1-Score (manual score):          0.2130\n",
      "  F1-Score (evaluator):             0.2130\n",
      "  Accuracy (Tree Edit Distance):    0.2197\n",
      "  Word Error Rate:                  0.7689\n"
     ]
    }
   ],
   "source": [
    "from collections.abc import Mapping, Sequence # Used for type checking in flatten function\n",
    "from donut import JSONParseEvaluator # The Donut JSONParseEvaluator is used for here for better comparison of the two models\n",
    "import numpy as np\n",
    "from torcheval.metrics import WordErrorRate\n",
    "\n",
    "def flatten_dict(d, parent_key='', sep='.'):\n",
    "    items = {}\n",
    "    for k, v in d.items() if isinstance(d, Mapping) else enumerate(d):\n",
    "        new_key = f\"{parent_key}{sep}{k}\" if parent_key else str(k)\n",
    "        if isinstance(v, Mapping):\n",
    "            # If the value is a dictionary, recurse\n",
    "            items.update(flatten_dict(v, new_key, sep=sep))\n",
    "        elif isinstance(v, Sequence) and not isinstance(v, (str, bytes)):\n",
    "            # If the value is a list/tuple (but not string/bytes), recurse\n",
    "             items.update(flatten_dict(v, new_key, sep=sep))\n",
    "        else:\n",
    "            # It's a leaf value\n",
    "            items[new_key] = v\n",
    "    return items\n",
    "\n",
    "def calculate_extraction_metrics(predictions, ground_truths):\n",
    "\n",
    "    if len(predictions) != len(ground_truths):\n",
    "        print(\"Error: Predictions and ground truths lists must have the same length.\")\n",
    "        return None\n",
    "\n",
    "    total_tp = 0  # True Positives (field correctly extracted with correct value)\n",
    "    total_fp = 0  # False Positives (field extracted but shouldn't be, or wrong value)\n",
    "    total_fn = 0  # False Negatives (field should have been extracted but wasn't, or wrong value)\n",
    "    accs = []\n",
    "    total_fields = 0\n",
    "    word_error_metric = WordErrorRate()\n",
    "\n",
    "    for i, (pred, truth) in enumerate(zip(predictions, ground_truths)):\n",
    "        # Field-Level Metrics (Precision, Recall, F1)\n",
    "        flat_pred = flatten_dict(pred)\n",
    "        flat_truth = flatten_dict(truth)\n",
    "\n",
    "        # Convert to sets of (key, value) tuples for comparison\n",
    "        pred_items = set(flat_pred.items())\n",
    "        truth_items = set(flat_truth.items())\n",
    "\n",
    "        def filter_empty_values(data):\n",
    "            return [item for item in data if item[1]]\n",
    "\n",
    "        non_empty_pred_items = set(filter_empty_values(pred_items))\n",
    "\n",
    "        tp = len(pred_items.intersection(truth_items))\n",
    "        fp = len(non_empty_pred_items.difference(truth_items))\n",
    "        fn = len(truth_items.difference(pred_items))\n",
    "\n",
    "        total_fields += len(flat_truth)\n",
    "        \n",
    "        total_tp += tp\n",
    "        total_fp += fp\n",
    "        total_fn += fn\n",
    "        \n",
    "        evaluator = JSONParseEvaluator()\n",
    "        acc_score = evaluator.cal_acc(pred, truth)\n",
    "        accs.append(float(acc_score))\n",
    "\n",
    "        def get_word_error_rate(input, target):\n",
    "            for input_item in input:\n",
    "                for target_item in target:\n",
    "                    if input_item[0] == target_item[0]:\n",
    "                        word_error_metric.update(input_item[1], target_item[1])\n",
    "\n",
    "        get_word_error_rate(pred_items, truth_items)\n",
    "\n",
    "\n",
    "        # Log TP, FP, FN for the a single dataset item\n",
    "        log_item_details = 100 # Set number of item you want to log\n",
    "        if i == log_item_details:\n",
    "            print(f\"Details for the dataset item no. {log_item_details+1}:\\n\")\n",
    "            print(\"  True Positives:\")\n",
    "            for item in pred_items.intersection(truth_items):\n",
    "                print(f\"    {item}\")\n",
    "\n",
    "            print(\"\\n  False Positives:\")\n",
    "            for item in non_empty_pred_items.difference(truth_items):\n",
    "                print(f\"    {item}\")\n",
    "\n",
    "            print(\"\\n  False Negatives:\")\n",
    "            for item in truth_items.difference(pred_items):\n",
    "                print(f\"    {item}\")\n",
    "            print(\"\\n\")\n",
    "\n",
    "    # Micro-average Precision, Recall, F1\n",
    "    precision = total_tp / (total_tp + total_fp) if (total_tp + total_fp) > 0 else 0.0\n",
    "    recall = total_tp / (total_tp + total_fn) if (total_tp + total_fn) > 0 else 0.0\n",
    "    f1 = 2 * (precision * recall) / (precision + recall) if (precision + recall) > 0 else 0.0\n",
    "    mean_accuracy = np.mean(accs)\n",
    "    f1_eval = evaluator.cal_f1(predictions, ground_truths)\n",
    "    word_error_rate = word_error_metric.compute()\n",
    "\n",
    "    return {\n",
    "        \"precision\": precision,\n",
    "        \"recall\": recall, \n",
    "        \"f1_score\": f1,\n",
    "        \"f1_eval\": f1_eval,\n",
    "        \"mean_accuracy\": mean_accuracy,\n",
    "        \"total_tp\": total_tp,\n",
    "        \"total_fields\": total_fields,\n",
    "        \"word_error_rate\": word_error_rate,   \n",
    "    }\n",
    "\n",
    "# Calculate and Print Metrics\n",
    "if parsed_results and ground_truth_list:\n",
    "    metrics = calculate_extraction_metrics(parsed_results, ground_truth_list)\n",
    "    print(f\"Parsed {len(ground_truth_list)} items with a total of {metrics['total_fields']} fields to predict.\")\n",
    "    print()\n",
    "    if metrics:\n",
    "        print(\"Validation Metrics:\")\n",
    "        print(f\"  Total True Positives:             {metrics['total_tp']}\")\n",
    "        print(f\"  Precision:                        {metrics['precision']:.4f}\")\n",
    "        print(f\"  Recall:                           {metrics['recall']:.4f}\")\n",
    "        print(f\"  F1-Score (manual score):          {metrics['f1_score']:.4f}\")\n",
    "        print(f\"  F1-Score (evaluator):             {metrics['f1_eval']:.4f}\")\n",
    "        print(f\"  Accuracy (Tree Edit Distance):    {metrics['mean_accuracy']:.4f}\")\n",
    "        print(f\"  Word Error Rate:                  {metrics['word_error_rate']:.4f}\")\n",
    "\n",
    "else:\n",
    "    print(\"No valid lists provided for predictions and/or ground truths.\")"
   ]
  }
 ],
 "metadata": {
  "kernelspec": {
   "display_name": ".venv-idefics",
   "language": "python",
   "name": "python3"
  },
  "language_info": {
   "codemirror_mode": {
    "name": "ipython",
    "version": 3
   },
   "file_extension": ".py",
   "mimetype": "text/x-python",
   "name": "python",
   "nbconvert_exporter": "python",
   "pygments_lexer": "ipython3",
   "version": "3.12.3"
  }
 },
 "nbformat": 4,
 "nbformat_minor": 5
}
