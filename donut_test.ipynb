{
 "cells": [
  {
   "cell_type": "markdown",
   "id": "f708e53f",
   "metadata": {},
   "source": [
    "# Test Fine-tuned Donut invoices\n",
    "\n",
    "Testing the Donut model after Fine-Tuning.\n",
    "\n",
    "## Preparation\n",
    "\n",
    "First we'll load some variables to work locally. Set the loading variables to true when runing this for the first time."
   ]
  },
  {
   "cell_type": "code",
   "execution_count": 1,
   "id": "458b5171",
   "metadata": {},
   "outputs": [],
   "source": [
    "dataset_id = \"Aoschu/donut_model_data_for_german_invoice\"\n",
    "\n",
    "local_ds_path = \"ds2_test\"\n",
    "local_model_path = \"donut_invoice_model/invoice_ds2/20250429_214015\"\n",
    "\n",
    "load_ds_from_hub = False\n",
    "\n",
    "save_path = f\"{local_ds_path}_results/{local_model_path}\""
   ]
  },
  {
   "cell_type": "markdown",
   "id": "2a5ef4e4",
   "metadata": {},
   "source": [
    "Loading the dataset. I only used the test split."
   ]
  },
  {
   "cell_type": "code",
   "execution_count": 2,
   "id": "bbbb32a5",
   "metadata": {},
   "outputs": [
    {
     "name": "stderr",
     "output_type": "stream",
     "text": [
      "/home/andi/Dokumente/DONUT/.donut39/lib/python3.9/site-packages/torch/functional.py:554: UserWarning: torch.meshgrid: in an upcoming release, it will be required to pass the indexing argument. (Triggered internally at /pytorch/aten/src/ATen/native/TensorShape.cpp:4314.)\n",
      "  return _VF.meshgrid(tensors, **kwargs)  # type: ignore[attr-defined]\n"
     ]
    }
   ],
   "source": [
    "from datasets import load_dataset, load_from_disk\n",
    "from donut import DonutModel\n",
    "\n",
    "if load_ds_from_hub:\n",
    "    dataset = load_dataset(dataset_id, split=\"test\")\n",
    "    dataset.save_to_disk(local_ds_path)\n",
    "\n",
    "dataset = load_from_disk(local_ds_path)\n",
    "model = DonutModel.from_pretrained(local_model_path)"
   ]
  },
  {
   "cell_type": "markdown",
   "id": "2070319b",
   "metadata": {},
   "source": [
    "Let's verify an example."
   ]
  },
  {
   "cell_type": "code",
   "execution_count": 3,
   "id": "6f2e8d9c",
   "metadata": {},
   "outputs": [
    {
     "data": {
      "image/jpeg": "[encoded data removed]",
      "image/png": "[encoded data removed]",
      "text/plain": [
       "<PIL.Image.Image image mode=RGB size=141x200>"
      ]
     },
     "metadata": {},
     "output_type": "display_data"
    }
   ],
   "source": [
    "example_image = dataset[0][\"image\"]\n",
    "width, height = example_image.size\n",
    "display(example_image.resize((int(width*0.1), int(height*0.1))))"
   ]
  },
  {
   "cell_type": "markdown",
   "id": "dcf886b8",
   "metadata": {},
   "source": [
    "## Testing\n",
    "\n",
    "Here we define the testing routine."
   ]
  },
  {
   "cell_type": "code",
   "execution_count": 4,
   "id": "0da471a3",
   "metadata": {},
   "outputs": [],
   "source": [
    "import torch\n",
    "from donut import JSONParseEvaluator, save_json\n",
    "import os\n",
    "from tqdm.notebook import tqdm\n",
    "import json\n",
    "import numpy as np\n",
    "\n",
    "\n",
    "def test():\n",
    "    if torch.cuda.is_available():\n",
    "        model.half()\n",
    "        model.to(\"cuda\")\n",
    "\n",
    "    model.eval()\n",
    "\n",
    "    if save_path:\n",
    "        os.makedirs(os.path.dirname(save_path), exist_ok=True)\n",
    "\n",
    "    predictions = []\n",
    "    ground_truths = []\n",
    "    scores={}\n",
    "\n",
    "    evaluator = JSONParseEvaluator()\n",
    "\n",
    "    for idx, sample in tqdm(enumerate(dataset), total=len(dataset)):\n",
    "        ground_truth = json.loads(sample[\"ground_truth\"])\n",
    "\n",
    "        output = model.inference(image=sample[\"image\"], prompt=f\"<gt_parse>\")[\"predictions\"][0]\n",
    "\n",
    "        gt = ground_truth[\"gt_parse\"]\n",
    "\n",
    "        predictions.append(output)\n",
    "        ground_truths.append(gt)\n",
    "\n",
    "    if save_path:\n",
    "        scores[\"predictions\"] = predictions\n",
    "        scores[\"ground_truths\"] = ground_truths\n",
    "        save_json(save_path, scores)\n",
    "\n",
    "    return predictions"
   ]
  },
  {
   "cell_type": "markdown",
   "id": "c4c5dd46",
   "metadata": {},
   "source": [
    "Time to run it."
   ]
  },
  {
   "cell_type": "code",
   "execution_count": 5,
   "id": "ae03dd89",
   "metadata": {},
   "outputs": [
    {
     "data": {
      "application/vnd.jupyter.widget-view+json": {
       "model_id": "1fcfa50f843b4f42ad1a4d4b535a5351",
       "version_major": 2,
       "version_minor": 0
      },
      "text/plain": [
       "  0%|          | 0/18 [00:00<?, ?it/s]"
      ]
     },
     "metadata": {},
     "output_type": "display_data"
    }
   ],
   "source": [
    "parsed_results = test()"
   ]
  },
  {
   "cell_type": "markdown",
   "id": "428b3999",
   "metadata": {},
   "source": [
    "## Checking results\n",
    "\n",
    "Let's take a look at a prediction example."
   ]
  },
  {
   "cell_type": "code",
   "execution_count": 6,
   "id": "12105cb4",
   "metadata": {},
   "outputs": [
    {
     "name": "stdout",
     "output_type": "stream",
     "text": [
      "{   'Der Name der Firma': 'Reisebiiro Kronenberger',\n",
      "    'Die Adresse der Firma': 'Bonner Str. 756789 Ahlen',\n",
      "    'IBAN': 'DE12 3456‘',\n",
      "    'Rechnungsdatum': '22.05.2030',\n",
      "    'Rechnungsnummer': '1234',\n",
      "    'Summe': '7.407,75 €',\n",
      "    'Telefonnummer': '0123 5678-90'}\n"
     ]
    }
   ],
   "source": [
    "import pprint\n",
    "\n",
    "pprint.pprint(parsed_results[0], indent=4)"
   ]
  },
  {
   "cell_type": "markdown",
   "id": "e90ca528",
   "metadata": {},
   "source": [
    "## Evaluation\n",
    "\n",
    "Now we can also load the ground truth data for evaluation. We'll also take a look at the first example."
   ]
  },
  {
   "cell_type": "code",
   "execution_count": 7,
   "id": "cdc62945",
   "metadata": {},
   "outputs": [
    {
     "data": {
      "text/plain": [
       "[{'Der Name der Firma': 'Reisebiiro Kronenberger',\n",
       "  'Die Adresse der Firma': 'Bonner Str. 756789 Ahlen',\n",
       "  'Telefonnummer': '01234 5678-90',\n",
       "  'Rechnungsdatum': ': 22.05.2030',\n",
       "  'Summe': '7.407,75',\n",
       "  'IBAN': 'DE12 3456 7890 1234 56',\n",
       "  'Der Name der Bank': 'Reisebank'}]"
      ]
     },
     "execution_count": 7,
     "metadata": {},
     "output_type": "execute_result"
    }
   ],
   "source": [
    "import json\n",
    "\n",
    "ground_truth_list = []\n",
    "for data_item in dataset:\n",
    "\n",
    "    gt_string = data_item[\"ground_truth\"]\n",
    "    parsed_data = json.loads(gt_string)\n",
    "\n",
    "    inner_dict = parsed_data[\"gt_parse\"]\n",
    "\n",
    "    ground_truth_list.append(inner_dict)\n",
    "\n",
    "ground_truth_list[:1]"
   ]
  },
  {
   "cell_type": "markdown",
   "id": "944d7f74",
   "metadata": {},
   "source": [
    "Now we can calculate some metrics.\n",
    "\n",
    "Notice that Precision, recall and F1-score are typically used for classification problems, not text prediction or matching key value paris. In the context of matching key value pairs, incorrect predictions are counted both as false positive and false negative.\n",
    "\n",
    "I've also calculated the accuracy based on the normalized tree edit distance by using the [donut-python](https://pypi.org/project/donut-python/) library. The main difference here is that, while the metrics are only counting fully correct or false predicitons per field, the three edit distance also measures how \"close\" any given predicitons was. You might want to implement this yourself or use another library, but I simply used it because I was comparing different models, including DONUT and so this seemed to be an easy way for an an additional baseline. I've also used the donut-python library to get the f1 score which was consistent with my own implementation in this case (not in all others).\n",
    "\n",
    "For predictions with matching keys, I've also calculated the values word error rate as i[mplemented by the torcheval library](https://pytorch.org/torcheval/main/generated/torcheval.metrics.WordErrorRate.html#torcheval.metrics.WordErrorRate)."
   ]
  },
  {
   "cell_type": "code",
   "execution_count": 9,
   "id": "dfb644f6",
   "metadata": {},
   "outputs": [
    {
     "name": "stdout",
     "output_type": "stream",
     "text": [
      "Parsed 18 items with a total of 113 fields to predict.\n",
      "\n",
      "Validation Metrics:\n",
      "  Total True Positives:             29\n",
      "  Precision:                        0.3625\n",
      "  Recall:                           0.2566\n",
      "  F1-Score (manual score):          0.3005\n",
      "  F1-Score (evaluator):             0.3005\n",
      "  Accuracy (Tree Edit Distance):    0.3224\n",
      "  Word Error Rate:                  0.5049\n"
     ]
    }
   ],
   "source": [
    "from collections.abc import Mapping, Sequence # Used for type checking in flatten function\n",
    "from donut import JSONParseEvaluator # The Donut JSONParseEvaluator is used for here for better comparison of the two models\n",
    "import numpy as np\n",
    "from torcheval.metrics import WordErrorRate\n",
    "\n",
    "def flatten_dict(d, parent_key='', sep='.'):\n",
    "    items = {}\n",
    "    for k, v in d.items() if isinstance(d, Mapping) else enumerate(d):\n",
    "        new_key = f\"{parent_key}{sep}{k}\" if parent_key else str(k)\n",
    "        if isinstance(v, Mapping):\n",
    "            # If the value is a dictionary, recurse\n",
    "            items.update(flatten_dict(v, new_key, sep=sep))\n",
    "        elif isinstance(v, Sequence) and not isinstance(v, (str, bytes)):\n",
    "            # If the value is a list/tuple (but not string/bytes), recurse\n",
    "             items.update(flatten_dict(v, new_key, sep=sep))\n",
    "        else:\n",
    "            # It's a leaf value\n",
    "            items[new_key] = v\n",
    "    return items\n",
    "\n",
    "def calculate_extraction_metrics(predictions, ground_truths):\n",
    "\n",
    "    if len(predictions) != len(ground_truths):\n",
    "        print(\"Error: Predictions and ground truths lists must have the same length.\")\n",
    "        return None\n",
    "\n",
    "    total_tp = 0  # True Positives (field correctly extracted with correct value)\n",
    "    total_fp = 0  # False Positives (field extracted but shouldn't be, or wrong value)\n",
    "    total_fn = 0  # False Negatives (field should have been extracted but wasn't, or wrong value)\n",
    "    accs = []\n",
    "    total_fields = 0\n",
    "    word_error_metric = WordErrorRate()\n",
    "\n",
    "    for i, (pred, truth) in enumerate(zip(predictions, ground_truths)):\n",
    "        # Field-Level Metrics (Precision, Recall, F1)\n",
    "        flat_pred = flatten_dict(pred)\n",
    "        flat_truth = flatten_dict(truth)\n",
    "\n",
    "        # Convert to sets of (key, value) tuples for comparison\n",
    "        pred_items = set(flat_pred.items())\n",
    "        truth_items = set(flat_truth.items())\n",
    "\n",
    "        def filter_empty_values(data):\n",
    "            return [item for item in data if item[1]]\n",
    "\n",
    "        non_empty_pred_items = set(filter_empty_values(pred_items))\n",
    "\n",
    "        tp = len(pred_items.intersection(truth_items))\n",
    "        fp = len(non_empty_pred_items.difference(truth_items))\n",
    "        fn = len(truth_items.difference(pred_items))\n",
    "\n",
    "        total_fields += len(flat_truth)\n",
    "        \n",
    "        total_tp += tp\n",
    "        total_fp += fp\n",
    "        total_fn += fn\n",
    "        \n",
    "        evaluator = JSONParseEvaluator()\n",
    "        acc_score = evaluator.cal_acc(pred, truth)\n",
    "        accs.append(float(acc_score))\n",
    "\n",
    "        def get_word_error_rate(input, target):\n",
    "            for input_item in input:\n",
    "                for target_item in target:\n",
    "                    if input_item[0] == target_item[0]:\n",
    "                        word_error_metric.update(input_item[1], target_item[1])\n",
    "\n",
    "        get_word_error_rate(pred_items, truth_items)\n",
    "\n",
    "\n",
    "        # Log TP, FP, FN for the a single dataset item\n",
    "        log_item_details = 100 # Set number of item you want to log\n",
    "        if i == log_item_details:\n",
    "            print(f\"Details for the dataset item no. {log_item_details+1}:\\n\")\n",
    "            print(\"  True Positives:\")\n",
    "            for item in pred_items.intersection(truth_items):\n",
    "                print(f\"    {item}\")\n",
    "\n",
    "            print(\"\\n  False Positives:\")\n",
    "            for item in non_empty_pred_items.difference(truth_items):\n",
    "                print(f\"    {item}\")\n",
    "\n",
    "            print(\"\\n  False Negatives:\")\n",
    "            for item in truth_items.difference(pred_items):\n",
    "                print(f\"    {item}\")\n",
    "            print(\"\\n\")\n",
    "\n",
    "    # Micro-average Precision, Recall, F1\n",
    "    precision = total_tp / (total_tp + total_fp) if (total_tp + total_fp) > 0 else 0.0\n",
    "    recall = total_tp / (total_tp + total_fn) if (total_tp + total_fn) > 0 else 0.0\n",
    "    f1 = 2 * (precision * recall) / (precision + recall) if (precision + recall) > 0 else 0.0\n",
    "    mean_accuracy = np.mean(accs)\n",
    "    f1_eval = evaluator.cal_f1(predictions, ground_truths)\n",
    "    word_error_rate = word_error_metric.compute()\n",
    "\n",
    "    return {\n",
    "        \"precision\": precision,\n",
    "        \"recall\": recall, \n",
    "        \"f1_score\": f1,\n",
    "        \"f1_eval\": f1_eval,\n",
    "        \"mean_accuracy\": mean_accuracy,\n",
    "        \"total_tp\": total_tp,\n",
    "        \"total_fields\": total_fields,\n",
    "        \"word_error_rate\": word_error_rate,   \n",
    "    }\n",
    "\n",
    "# Calculate and Print Metrics\n",
    "if parsed_results and ground_truth_list:\n",
    "    metrics = calculate_extraction_metrics(parsed_results, ground_truth_list)\n",
    "    print(f\"Parsed {len(ground_truth_list)} items with a total of {metrics['total_fields']} fields to predict.\")\n",
    "    print()\n",
    "    if metrics:\n",
    "        print(\"Validation Metrics:\")\n",
    "        print(f\"  Total True Positives:             {metrics['total_tp']}\")\n",
    "        print(f\"  Precision:                        {metrics['precision']:.4f}\")\n",
    "        print(f\"  Recall:                           {metrics['recall']:.4f}\")\n",
    "        print(f\"  F1-Score (manual score):          {metrics['f1_score']:.4f}\")\n",
    "        print(f\"  F1-Score (evaluator):             {metrics['f1_eval']:.4f}\")\n",
    "        print(f\"  Accuracy (Tree Edit Distance):    {metrics['mean_accuracy']:.4f}\")\n",
    "        print(f\"  Word Error Rate:                  {metrics['word_error_rate']:.4f}\")\n",
    "\n",
    "else:\n",
    "    print(\"No valid lists provided for predictions and/or ground truths.\")"
   ]
  }
 ],
 "metadata": {
  "kernelspec": {
   "display_name": ".donut39",
   "language": "python",
   "name": "python3"
  },
  "language_info": {
   "codemirror_mode": {
    "name": "ipython",
    "version": 3
   },
   "file_extension": ".py",
   "mimetype": "text/x-python",
   "name": "python",
   "nbconvert_exporter": "python",
   "pygments_lexer": "ipython3",
   "version": "3.9.22"
  }
 },
 "nbformat": 4,
 "nbformat_minor": 5
}
